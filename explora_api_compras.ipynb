{
 "cells": [
  {
   "cell_type": "code",
   "execution_count": 1,
   "metadata": {},
   "outputs": [],
   "source": [
    "import json\n",
    "import requests as r\n",
    "import sqlalchemy as sqla\n",
    "import pandas as pd\n",
    "import csv\n",
    "\n",
    "PROXIES = {\n",
    " \"http\": \"http://07343957:X@nd@0l@bs0734@proxy-1dn.mb:6060\",\n",
    " \"https\": \"http://07343957:X@nd@0l@bs0734@proxy-1dn.mb:6060\",\n",
    "}\n",
    "\n",
    "url_base = 'http://compras.dados.gov.br'\n",
    "\n",
    "def get_pregoes(uasg: str):\n",
    "    data = {'co_uasg': str(uasg)}\n",
    "    href_pregoes = '/pregoes/v1/pregoes.json'\n",
    "    url = url_base + href_pregoes\n",
    "    response = r.request('GET', url=url, params=data, proxies=PROXIES)\n",
    "    return response.json()\n"
   ]
  },
  {
   "cell_type": "code",
   "execution_count": 2,
   "metadata": {},
   "outputs": [],
   "source": [
    "df = pd.DataFrame.from_dict(get_pregoes('762200')['_embedded']['pregoes'])"
   ]
  },
  {
   "cell_type": "code",
   "execution_count": 3,
   "metadata": {},
   "outputs": [
    {
     "data": {
      "text/plain": [
       "{'self': {'href': '/pregoes/id/pregao/7622000000012006',\n",
       "  'title': 'Pregao nº  0000012006'},\n",
       " '52131: comando da marinha': {'href': '/licitacoes/id/orgao/52131',\n",
       "  'title': 'Orgão do pregão'},\n",
       " 'Termos': {'href': '/pregoes/v1/termos_pregao.html?nu_pregao=12006&co_uasg=762200',\n",
       "  'title': 'Termos do pregão'},\n",
       " 'declaracões': {'href': '/pregoes/v1/declaracao_pregao.html?nu_pregao=12006&co_uasg=762200',\n",
       "  'title': 'Declarações do pregão'},\n",
       " 'itens': {'href': '/pregoes/id/pregao/7622000000012006/itens',\n",
       "  'title': 'Itens do pregão'},\n",
       " 'resultados': {'href': '/pregoes/v1/resultados_pregao.html?nu_pregao=12006&co_uasg=762200',\n",
       "  'title': 'Resultados do pregão'},\n",
       " 'uasg': {'href': '/licitacoes/id/uasg/762200',\n",
       "  'title': 'UASG 762200: CENTRO DE INSTRUCAO ALMIRANTE WANDENKOLK'}}"
      ]
     },
     "execution_count": 3,
     "metadata": {},
     "output_type": "execute_result"
    }
   ],
   "source": [
    "df.iloc[0]['_links']"
   ]
  },
  {
   "cell_type": "code",
   "execution_count": 4,
   "metadata": {},
   "outputs": [
    {
     "data": {
      "text/plain": [
       "Index(['numero', 'co_portaria', 'dtPortaria', 'co_processo', 'ds_tipo_pregao',\n",
       "       'ds_tipo_pregao_compra', 'tx_objeto', 'co_uasg', 'ds_situacao_pregao',\n",
       "       'dtDataEdital', 'dtInicioProposta', 'dtFimProposta', '_links'],\n",
       "      dtype='object')"
      ]
     },
     "execution_count": 4,
     "metadata": {},
     "output_type": "execute_result"
    }
   ],
   "source": [
    "df.columns"
   ]
  },
  {
   "cell_type": "code",
   "execution_count": 5,
   "metadata": {},
   "outputs": [],
   "source": [
    "df['link_pregao'] = df['_links'].apply(lambda x: url_base + x['self']['href'] + '.json')"
   ]
  },
  {
   "cell_type": "code",
   "execution_count": 6,
   "metadata": {},
   "outputs": [],
   "source": [
    "df['link_itens'] = df['_links'].apply(lambda x: url_base + x['itens']['href'] + '.json') "
   ]
  },
  {
   "cell_type": "code",
   "execution_count": 7,
   "metadata": {},
   "outputs": [],
   "source": [
    "df['link_termos'] = df['_links'].apply(lambda x: url_base + x['Termos']['href'] + '.json')"
   ]
  },
  {
   "cell_type": "code",
   "execution_count": 8,
   "metadata": {},
   "outputs": [],
   "source": [
    "df['link_declaracões'] = df['_links'].apply(lambda x: url_base + x['declaracões']['href'] + '.json')"
   ]
  },
  {
   "cell_type": "code",
   "execution_count": 9,
   "metadata": {},
   "outputs": [],
   "source": [
    "df['link_resultados'] = df['_links'].apply(lambda x: url_base + x['resultados']['href'] + '.json')"
   ]
  },
  {
   "cell_type": "code",
   "execution_count": 10,
   "metadata": {},
   "outputs": [],
   "source": [
    "for i in list(df.columns):\n",
    "    if i.startswith('dt'):\n",
    "        df[i] = pd.to_datetime(df[i], infer_datetime_format=True)"
   ]
  },
  {
   "cell_type": "code",
   "execution_count": 11,
   "metadata": {},
   "outputs": [
    {
     "data": {
      "text/plain": [
       "array([None, 'revogado', 'abandonado', 'anulado', 'suspenso'],\n",
       "      dtype=object)"
      ]
     },
     "execution_count": 11,
     "metadata": {},
     "output_type": "execute_result"
    }
   ],
   "source": [
    "df.ds_situacao_pregao.unique()"
   ]
  },
  {
   "cell_type": "code",
   "execution_count": 12,
   "metadata": {},
   "outputs": [],
   "source": [
    "df.drop(columns=['numero', '_links', 'ds_tipo_pregao'], inplace=True)\n",
    "# numero: recebeu None em todas as linhas\n",
    "# _links, já mapeado para as colunas link_...\n",
    "# ds_tipo_pregao: todos receberam \"eletrônico\"\n"
   ]
  },
  {
   "cell_type": "code",
   "execution_count": 14,
   "metadata": {},
   "outputs": [
    {
     "data": {
      "text/html": [
       "<div>\n",
       "<style scoped>\n",
       "    .dataframe tbody tr th:only-of-type {\n",
       "        vertical-align: middle;\n",
       "    }\n",
       "\n",
       "    .dataframe tbody tr th {\n",
       "        vertical-align: top;\n",
       "    }\n",
       "\n",
       "    .dataframe thead th {\n",
       "        text-align: right;\n",
       "    }\n",
       "</style>\n",
       "<table border=\"1\" class=\"dataframe\">\n",
       "  <thead>\n",
       "    <tr style=\"text-align: right;\">\n",
       "      <th></th>\n",
       "      <th>co_portaria</th>\n",
       "      <th>dtPortaria</th>\n",
       "      <th>co_processo</th>\n",
       "      <th>ds_tipo_pregao_compra</th>\n",
       "      <th>tx_objeto</th>\n",
       "      <th>co_uasg</th>\n",
       "      <th>ds_situacao_pregao</th>\n",
       "      <th>dtDataEdital</th>\n",
       "      <th>dtInicioProposta</th>\n",
       "      <th>dtFimProposta</th>\n",
       "      <th>link_pregao</th>\n",
       "      <th>link_itens</th>\n",
       "      <th>link_termos</th>\n",
       "      <th>link_declaracões</th>\n",
       "      <th>link_resultados</th>\n",
       "    </tr>\n",
       "  </thead>\n",
       "  <tbody>\n",
       "    <tr>\n",
       "      <th>0</th>\n",
       "      <td>018                                           ...</td>\n",
       "      <td>2006-07-21</td>\n",
       "      <td>05/2006</td>\n",
       "      <td>SISPP</td>\n",
       "      <td>Objeto: Pregão Eletrônico -  Aquisição de Pr  ...</td>\n",
       "      <td>762200</td>\n",
       "      <td>None</td>\n",
       "      <td>2006-08-23</td>\n",
       "      <td>2006-08-23 08:00:00</td>\n",
       "      <td>2006-09-06 08:30:00</td>\n",
       "      <td>http://compras.dados.gov.br/pregoes/id/pregao/...</td>\n",
       "      <td>http://compras.dados.gov.br/pregoes/id/pregao/...</td>\n",
       "      <td>http://compras.dados.gov.br/pregoes/v1/termos_...</td>\n",
       "      <td>http://compras.dados.gov.br/pregoes/v1/declara...</td>\n",
       "      <td>http://compras.dados.gov.br/pregoes/v1/resulta...</td>\n",
       "    </tr>\n",
       "    <tr>\n",
       "      <th>1</th>\n",
       "      <td>018                                           ...</td>\n",
       "      <td>2006-07-21</td>\n",
       "      <td>762200/0001-2007</td>\n",
       "      <td>SISPP</td>\n",
       "      <td>Objeto: Pregão Eletrônico -  Fornecimento de c...</td>\n",
       "      <td>762200</td>\n",
       "      <td>None</td>\n",
       "      <td>2007-02-27</td>\n",
       "      <td>2007-03-12 08:00:00</td>\n",
       "      <td>2007-03-27 09:00:00</td>\n",
       "      <td>http://compras.dados.gov.br/pregoes/id/pregao/...</td>\n",
       "      <td>http://compras.dados.gov.br/pregoes/id/pregao/...</td>\n",
       "      <td>http://compras.dados.gov.br/pregoes/v1/termos_...</td>\n",
       "      <td>http://compras.dados.gov.br/pregoes/v1/declara...</td>\n",
       "      <td>http://compras.dados.gov.br/pregoes/v1/resulta...</td>\n",
       "    </tr>\n",
       "    <tr>\n",
       "      <th>2</th>\n",
       "      <td>Portaria n° 42/2007                           ...</td>\n",
       "      <td>2007-11-12</td>\n",
       "      <td>63093000024200771</td>\n",
       "      <td>SISRP</td>\n",
       "      <td>OBJETO : PREGAO ELETRONICO   Prestaçao de serv...</td>\n",
       "      <td>762200</td>\n",
       "      <td>revogado</td>\n",
       "      <td>2008-01-18</td>\n",
       "      <td>2008-02-01 08:00:00</td>\n",
       "      <td>2008-02-15 10:00:00</td>\n",
       "      <td>http://compras.dados.gov.br/pregoes/id/pregao/...</td>\n",
       "      <td>http://compras.dados.gov.br/pregoes/id/pregao/...</td>\n",
       "      <td>http://compras.dados.gov.br/pregoes/v1/termos_...</td>\n",
       "      <td>http://compras.dados.gov.br/pregoes/v1/declara...</td>\n",
       "      <td>http://compras.dados.gov.br/pregoes/v1/resulta...</td>\n",
       "    </tr>\n",
       "    <tr>\n",
       "      <th>3</th>\n",
       "      <td>Portaria                                      ...</td>\n",
       "      <td>2009-04-18</td>\n",
       "      <td>63093000001200929</td>\n",
       "      <td>SISRP</td>\n",
       "      <td>Objeto: Pregão Eletrônico -  Registro de Preço...</td>\n",
       "      <td>762200</td>\n",
       "      <td>None</td>\n",
       "      <td>2009-10-22</td>\n",
       "      <td>2009-10-22 08:00:00</td>\n",
       "      <td>2009-11-09 09:30:00</td>\n",
       "      <td>http://compras.dados.gov.br/pregoes/id/pregao/...</td>\n",
       "      <td>http://compras.dados.gov.br/pregoes/id/pregao/...</td>\n",
       "      <td>http://compras.dados.gov.br/pregoes/v1/termos_...</td>\n",
       "      <td>http://compras.dados.gov.br/pregoes/v1/declara...</td>\n",
       "      <td>http://compras.dados.gov.br/pregoes/v1/resulta...</td>\n",
       "    </tr>\n",
       "    <tr>\n",
       "      <th>4</th>\n",
       "      <td>Portaria                                      ...</td>\n",
       "      <td>2009-04-18</td>\n",
       "      <td>63093000116200913</td>\n",
       "      <td>SISRP</td>\n",
       "      <td>Objeto: Pregão Eletrônico -  Registro de Preço...</td>\n",
       "      <td>762200</td>\n",
       "      <td>None</td>\n",
       "      <td>2010-02-01</td>\n",
       "      <td>2010-02-01 08:00:00</td>\n",
       "      <td>2010-02-11 09:30:00</td>\n",
       "      <td>http://compras.dados.gov.br/pregoes/id/pregao/...</td>\n",
       "      <td>http://compras.dados.gov.br/pregoes/id/pregao/...</td>\n",
       "      <td>http://compras.dados.gov.br/pregoes/v1/termos_...</td>\n",
       "      <td>http://compras.dados.gov.br/pregoes/v1/declara...</td>\n",
       "      <td>http://compras.dados.gov.br/pregoes/v1/resulta...</td>\n",
       "    </tr>\n",
       "  </tbody>\n",
       "</table>\n",
       "</div>"
      ],
      "text/plain": [
       "                                         co_portaria dtPortaria  \\\n",
       "0  018                                           ... 2006-07-21   \n",
       "1  018                                           ... 2006-07-21   \n",
       "2  Portaria n° 42/2007                           ... 2007-11-12   \n",
       "3  Portaria                                      ... 2009-04-18   \n",
       "4  Portaria                                      ... 2009-04-18   \n",
       "\n",
       "                      co_processo ds_tipo_pregao_compra  \\\n",
       "0  05/2006                                        SISPP   \n",
       "1  762200/0001-2007                               SISPP   \n",
       "2  63093000024200771                              SISRP   \n",
       "3  63093000001200929                              SISRP   \n",
       "4  63093000116200913                              SISRP   \n",
       "\n",
       "                                           tx_objeto  co_uasg  \\\n",
       "0  Objeto: Pregão Eletrônico -  Aquisição de Pr  ...   762200   \n",
       "1  Objeto: Pregão Eletrônico -  Fornecimento de c...   762200   \n",
       "2  OBJETO : PREGAO ELETRONICO   Prestaçao de serv...   762200   \n",
       "3  Objeto: Pregão Eletrônico -  Registro de Preço...   762200   \n",
       "4  Objeto: Pregão Eletrônico -  Registro de Preço...   762200   \n",
       "\n",
       "  ds_situacao_pregao dtDataEdital    dtInicioProposta       dtFimProposta  \\\n",
       "0               None   2006-08-23 2006-08-23 08:00:00 2006-09-06 08:30:00   \n",
       "1               None   2007-02-27 2007-03-12 08:00:00 2007-03-27 09:00:00   \n",
       "2           revogado   2008-01-18 2008-02-01 08:00:00 2008-02-15 10:00:00   \n",
       "3               None   2009-10-22 2009-10-22 08:00:00 2009-11-09 09:30:00   \n",
       "4               None   2010-02-01 2010-02-01 08:00:00 2010-02-11 09:30:00   \n",
       "\n",
       "                                         link_pregao  \\\n",
       "0  http://compras.dados.gov.br/pregoes/id/pregao/...   \n",
       "1  http://compras.dados.gov.br/pregoes/id/pregao/...   \n",
       "2  http://compras.dados.gov.br/pregoes/id/pregao/...   \n",
       "3  http://compras.dados.gov.br/pregoes/id/pregao/...   \n",
       "4  http://compras.dados.gov.br/pregoes/id/pregao/...   \n",
       "\n",
       "                                          link_itens  \\\n",
       "0  http://compras.dados.gov.br/pregoes/id/pregao/...   \n",
       "1  http://compras.dados.gov.br/pregoes/id/pregao/...   \n",
       "2  http://compras.dados.gov.br/pregoes/id/pregao/...   \n",
       "3  http://compras.dados.gov.br/pregoes/id/pregao/...   \n",
       "4  http://compras.dados.gov.br/pregoes/id/pregao/...   \n",
       "\n",
       "                                         link_termos  \\\n",
       "0  http://compras.dados.gov.br/pregoes/v1/termos_...   \n",
       "1  http://compras.dados.gov.br/pregoes/v1/termos_...   \n",
       "2  http://compras.dados.gov.br/pregoes/v1/termos_...   \n",
       "3  http://compras.dados.gov.br/pregoes/v1/termos_...   \n",
       "4  http://compras.dados.gov.br/pregoes/v1/termos_...   \n",
       "\n",
       "                                    link_declaracões  \\\n",
       "0  http://compras.dados.gov.br/pregoes/v1/declara...   \n",
       "1  http://compras.dados.gov.br/pregoes/v1/declara...   \n",
       "2  http://compras.dados.gov.br/pregoes/v1/declara...   \n",
       "3  http://compras.dados.gov.br/pregoes/v1/declara...   \n",
       "4  http://compras.dados.gov.br/pregoes/v1/declara...   \n",
       "\n",
       "                                     link_resultados  \n",
       "0  http://compras.dados.gov.br/pregoes/v1/resulta...  \n",
       "1  http://compras.dados.gov.br/pregoes/v1/resulta...  \n",
       "2  http://compras.dados.gov.br/pregoes/v1/resulta...  \n",
       "3  http://compras.dados.gov.br/pregoes/v1/resulta...  \n",
       "4  http://compras.dados.gov.br/pregoes/v1/resulta...  "
      ]
     },
     "execution_count": 14,
     "metadata": {},
     "output_type": "execute_result"
    }
   ],
   "source": [
    "df.head()"
   ]
  },
  {
   "cell_type": "markdown",
   "metadata": {},
   "source": [
    "## TODO\n",
    "\n",
    "+ Verificar o campo dtPortaria,\n",
    "+ Verificar o campo ds_tipo_pregao_compra\n",
    "+ Verificar o campo ds_situacao_pregao\n",
    "+ Criar o banco de dados com as relações entre as informações dos links e as uasg\n",
    "+ transformar numa função que receba os codigos das uasg"
   ]
  }
 ],
 "metadata": {
  "kernelspec": {
   "display_name": "Python 3",
   "language": "python",
   "name": "python3"
  },
  "language_info": {
   "codemirror_mode": {
    "name": "ipython",
    "version": 3
   },
   "file_extension": ".py",
   "mimetype": "text/x-python",
   "name": "python",
   "nbconvert_exporter": "python",
   "pygments_lexer": "ipython3",
   "version": "3.7.6"
  }
 },
 "nbformat": 4,
 "nbformat_minor": 4
}
